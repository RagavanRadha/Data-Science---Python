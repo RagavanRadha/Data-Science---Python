{
 "cells": [
  {
   "cell_type": "markdown",
   "id": "7c741b6a",
   "metadata": {},
   "source": [
    "# Boston price prediction"
   ]
  },
  {
   "cell_type": "code",
   "execution_count": 1,
   "id": "ae5cb6e7",
   "metadata": {},
   "outputs": [],
   "source": [
    "# Import the required libraries\n",
    "import pandas as pd\n",
    "import matplotlib.pyplot\n",
    "import numpy as np\n",
    "import sklearn.model_selection as model_selection\n",
    "import sklearn.tree as tree\n"
   ]
  },
  {
   "cell_type": "code",
   "execution_count": 2,
   "id": "2064a4ca",
   "metadata": {},
   "outputs": [
    {
     "data": {
      "text/plain": [
       "CRIM                             0\n",
       "ZN                               0\n",
       "INDUS                            0\n",
       "Charles River dummy variable     0\n",
       "nitric oxides concentration      0\n",
       "#rooms/dwelling                  0\n",
       "AGE                              0\n",
       "DIS                              0\n",
       "RAD                              0\n",
       "TAX                              0\n",
       "PTRATIO                          0\n",
       "B                                0\n",
       "LSTAT                            0\n",
       "MEDV                            54\n",
       "dtype: int64"
      ]
     },
     "execution_count": 2,
     "metadata": {},
     "output_type": "execute_result"
    }
   ],
   "source": [
    "# Read the data\n",
    "df = pd.read_csv(\"boston_prices.csv\")\n",
    "\n",
    "# Check for missing values\n",
    "df.isnull().sum()"
   ]
  },
  {
   "cell_type": "code",
   "execution_count": 3,
   "id": "a5dd09f3",
   "metadata": {},
   "outputs": [
    {
     "data": {
      "text/plain": [
       "count    452.000000\n",
       "mean      23.750442\n",
       "std        8.808602\n",
       "min        6.300000\n",
       "25%       18.500000\n",
       "50%       21.950000\n",
       "75%       26.600000\n",
       "max       50.000000\n",
       "Name: MEDV, dtype: float64"
      ]
     },
     "execution_count": 3,
     "metadata": {},
     "output_type": "execute_result"
    }
   ],
   "source": [
    "df['MEDV'].describe()"
   ]
  },
  {
   "cell_type": "code",
   "execution_count": 4,
   "id": "e5fc1b22",
   "metadata": {},
   "outputs": [],
   "source": [
    "# Drop the missing value as risky to impute the missing value in Target variable\n",
    "df = df.dropna()"
   ]
  },
  {
   "cell_type": "code",
   "execution_count": 5,
   "id": "7e245c08",
   "metadata": {},
   "outputs": [
    {
     "data": {
      "text/plain": [
       "(452, 14)"
      ]
     },
     "execution_count": 5,
     "metadata": {},
     "output_type": "execute_result"
    }
   ],
   "source": [
    "df.isnull().sum()\n",
    "df.shape"
   ]
  },
  {
   "cell_type": "code",
   "execution_count": 6,
   "id": "3fc379df",
   "metadata": {},
   "outputs": [],
   "source": [
    "# Create dataframe with Dependent and Independent variable separately\n",
    "X = df.drop('MEDV',axis=1)\n",
    "y = df['MEDV']"
   ]
  },
  {
   "cell_type": "code",
   "execution_count": 7,
   "id": "b0c3a6f6",
   "metadata": {},
   "outputs": [],
   "source": [
    "# Split the training and testing data with 80/20\n",
    "from sklearn.model_selection import train_test_split\n",
    "X_train,X_test,y_train,y_test = train_test_split(X,y,test_size=0.2,random_state=200)"
   ]
  },
  {
   "cell_type": "code",
   "execution_count": 9,
   "id": "14eee49d",
   "metadata": {},
   "outputs": [
    {
     "data": {
      "text/plain": [
       "0.9769469713044384"
      ]
     },
     "execution_count": 9,
     "metadata": {},
     "output_type": "execute_result"
    }
   ],
   "source": [
    "# Create a model and fit into training data\n",
    "from sklearn.ensemble import RandomForestRegressor\n",
    "from sklearn.tree import DecisionTreeRegressor\n",
    "mod = RandomForestRegressor(n_estimators=80,n_jobs=-1,oob_score=True)\n",
    "mod.fit(X_train,y_train)\n",
    "mod.score(X_train,y_train)"
   ]
  },
  {
   "cell_type": "code",
   "execution_count": 10,
   "id": "a065a908",
   "metadata": {},
   "outputs": [
    {
     "data": {
      "text/plain": [
       "0.8100120403350546"
      ]
     },
     "execution_count": 10,
     "metadata": {},
     "output_type": "execute_result"
    }
   ],
   "source": [
    "# Check the model accuracy in test data\n",
    "mod.score(X_test,y_test)"
   ]
  },
  {
   "cell_type": "code",
   "execution_count": 11,
   "id": "5177c853",
   "metadata": {},
   "outputs": [],
   "source": [
    "# Get the model predicted values\n",
    "y_pred_test = mod.predict(X_test)\n",
    "y_pred_train = mod.predict(X_train)"
   ]
  },
  {
   "cell_type": "code",
   "execution_count": 12,
   "id": "8f42b6fc",
   "metadata": {},
   "outputs": [
    {
     "name": "stdout",
     "output_type": "stream",
     "text": [
      "R squared score: 0.8100120403350546\n",
      "Mean Absolute Error: 2.272266483516483\n",
      "Mean Squared Error: 14.742724742445052\n",
      "Mean Absolute Percentage Error : 0.09934822714743918\n",
      "RMSE : 3.8396255992537935\n"
     ]
    }
   ],
   "source": [
    "from sklearn.metrics import r2_score,mean_absolute_error,mean_squared_error,mean_absolute_percentage_error\n",
    "r2_score = r2_score(y_test,y_pred_test)\n",
    "mean_absolute_error = mean_absolute_error(y_test,y_pred_test)\n",
    "mean_squared_error = mean_squared_error(y_test,y_pred_test)\n",
    "mean_absolute_percentage_error = mean_absolute_percentage_error(y_test,y_pred_test)\n",
    "RMSE = np.sqrt(mean_squared_error)\n",
    "print(\"R squared score:\",r2_score)\n",
    "print(\"Mean Absolute Error:\",mean_absolute_error)\n",
    "print(\"Mean Squared Error:\",mean_squared_error)\n",
    "print(\"Mean Absolute Percentage Error :\",mean_absolute_percentage_error)\n",
    "print(\"RMSE :\",RMSE)"
   ]
  },
  {
   "cell_type": "code",
   "execution_count": 13,
   "id": "b554a610",
   "metadata": {},
   "outputs": [
    {
     "data": {
      "text/plain": [
       "array([0.02910071, 0.00079489, 0.00886358, 0.0016624 , 0.00619454,\n",
       "       0.62391107, 0.0169729 , 0.0574193 , 0.00492844, 0.01168236,\n",
       "       0.01695741, 0.01062139, 0.210891  ])"
      ]
     },
     "execution_count": 13,
     "metadata": {},
     "output_type": "execute_result"
    }
   ],
   "source": [
    "# Check for feature importances\n",
    "mod.feature_importances_"
   ]
  },
  {
   "cell_type": "code",
   "execution_count": 14,
   "id": "00a6d892",
   "metadata": {},
   "outputs": [
    {
     "data": {
      "text/plain": [
       "#rooms/dwelling    0.623911\n",
       "LSTAT              0.210891\n",
       "DIS                0.057419\n",
       "CRIM               0.029101\n",
       "AGE                0.016973\n",
       "PTRATIO            0.016957\n",
       "TAX                0.011682\n",
       "B                  0.010621\n",
       "dtype: float64"
      ]
     },
     "execution_count": 14,
     "metadata": {},
     "output_type": "execute_result"
    }
   ],
   "source": [
    "# Get the series of features which are important  \n",
    "Feature_Importance = pd.Series(mod.feature_importances_,index=X.columns).sort_values(ascending=False).head(8)\n",
    "Feature_Importance"
   ]
  },
  {
   "cell_type": "code",
   "execution_count": 15,
   "id": "267d7a5c",
   "metadata": {},
   "outputs": [],
   "source": [
    "# Try to run the model with only those features and see how it performs\n",
    "df_new = pd.concat([df['#rooms/dwelling'],df['LSTAT'],df['DIS'],df['CRIM'],df['MEDV']],axis=1,join='outer')"
   ]
  },
  {
   "cell_type": "code",
   "execution_count": 16,
   "id": "4da1e5ee",
   "metadata": {},
   "outputs": [],
   "source": [
    "X = df_new.drop('MEDV',axis=1)\n",
    "y = df_new['MEDV']"
   ]
  },
  {
   "cell_type": "code",
   "execution_count": 17,
   "id": "adb5f473",
   "metadata": {},
   "outputs": [],
   "source": [
    "from sklearn.model_selection import train_test_split\n",
    "X_train,X_test,y_train,y_test = train_test_split(X,y,test_size=0.2,random_state=200)"
   ]
  },
  {
   "cell_type": "code",
   "execution_count": 18,
   "id": "02b6dbfd",
   "metadata": {},
   "outputs": [
    {
     "data": {
      "text/plain": [
       "0.9778921053890022"
      ]
     },
     "execution_count": 18,
     "metadata": {},
     "output_type": "execute_result"
    }
   ],
   "source": [
    "from sklearn.ensemble import BaggingRegressor\n",
    "from sklearn.tree import DecisionTreeRegressor\n",
    "mod = BaggingRegressor(n_estimators=80,n_jobs=-1,oob_score=True,base_estimator=DecisionTreeRegressor())\n",
    "mod.fit(X_train,y_train)\n",
    "mod.score(X_train,y_train)"
   ]
  },
  {
   "cell_type": "code",
   "execution_count": 19,
   "id": "139c2b01",
   "metadata": {},
   "outputs": [
    {
     "data": {
      "text/plain": [
       "0.7704870037911883"
      ]
     },
     "execution_count": 19,
     "metadata": {},
     "output_type": "execute_result"
    }
   ],
   "source": [
    "mod.score(X_test,y_test)"
   ]
  },
  {
   "cell_type": "code",
   "execution_count": 20,
   "id": "92fa5c11",
   "metadata": {},
   "outputs": [],
   "source": [
    "y_pred_test = mod.predict(X_test)\n",
    "y_pred_train = mod.predict(X_train)"
   ]
  },
  {
   "cell_type": "code",
   "execution_count": 21,
   "id": "31611cf2",
   "metadata": {},
   "outputs": [],
   "source": [
    "y_pred_test = mod.predict(X_test)\n",
    "y_pred_train = mod.predict(X_train)"
   ]
  },
  {
   "cell_type": "code",
   "execution_count": 22,
   "id": "81881fc3",
   "metadata": {},
   "outputs": [
    {
     "name": "stdout",
     "output_type": "stream",
     "text": [
      "R squared score: 0.7704870037911883\n",
      "Mean Absolute Error: 2.447431318681318\n",
      "Mean Squared Error: 17.809796651785717\n",
      "Mean Absolute Percentage Error : 0.10636976503602619\n",
      "RMSE : 4.2201654768250165\n"
     ]
    }
   ],
   "source": [
    "from sklearn.metrics import r2_score,mean_absolute_error,mean_squared_error,mean_absolute_percentage_error\n",
    "r2_score = r2_score(y_test,y_pred_test)\n",
    "mean_absolute_error = mean_absolute_error(y_test,y_pred_test)\n",
    "mean_squared_error = mean_squared_error(y_test,y_pred_test)\n",
    "mean_absolute_percentage_error = mean_absolute_percentage_error(y_test,y_pred_test)\n",
    "RMSE = np.sqrt(mean_squared_error)\n",
    "print(\"R squared score:\",r2_score)\n",
    "print(\"Mean Absolute Error:\",mean_absolute_error)\n",
    "print(\"Mean Squared Error:\",mean_squared_error)\n",
    "print(\"Mean Absolute Percentage Error :\",mean_absolute_percentage_error)\n",
    "print(\"RMSE :\",RMSE)"
   ]
  }
 ],
 "metadata": {
  "kernelspec": {
   "display_name": "Python 3",
   "language": "python",
   "name": "python3"
  },
  "language_info": {
   "codemirror_mode": {
    "name": "ipython",
    "version": 3
   },
   "file_extension": ".py",
   "mimetype": "text/x-python",
   "name": "python",
   "nbconvert_exporter": "python",
   "pygments_lexer": "ipython3",
   "version": "3.8.8"
  }
 },
 "nbformat": 4,
 "nbformat_minor": 5
}
